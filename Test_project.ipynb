{
 "cells": [
  {
   "cell_type": "code",
   "execution_count": 1,
   "metadata": {},
   "outputs": [],
   "source": [
    "import random\n",
    "import sympy as sp\n",
    "import json\n",
    "import numpy as np\n",
    "import matplotlib.pyplot as plt\n",
    "\n",
    "# Liste des opérateurs binaires et des fonctions unaires\n",
    "OPERATORS = ['+', '-', '*', '/']\n",
    "FUNCTIONS = ['sin', 'cos', 'exp', 'sqrt']\n",
    "\n",
    "# Générateur récursif d'expressions mathématiques\n",
    "def generate_expression(depth=3):\n",
    "    if depth == 0:\n",
    "        # Cas de base : on retourne soit une variable, soit une constante\n",
    "        return random.choice(['x', str(random.randint(1, 10))])\n",
    "    \n",
    "    # Choix d'une structure d'expression (opérateur binaire ou fonction unaire)\n",
    "    expr_type = random.choice(['binary', 'unary'])\n",
    "    \n",
    "    if expr_type == 'binary':\n",
    "        # Générer une expression binaire\n",
    "        op = random.choice(OPERATORS)\n",
    "        left = generate_expression(depth - 1)\n",
    "        right = generate_expression(depth - 1)\n",
    "        return f\"({left} {op} {right})\"\n",
    "    \n",
    "    elif expr_type == 'unary':\n",
    "        # Générer une expression unaire\n",
    "        func = random.choice(FUNCTIONS)\n",
    "        inner_expr = generate_expression(depth - 1)\n",
    "        return f\"{func}({inner_expr})\""
   ]
  },
  {
   "cell_type": "code",
   "execution_count": 4,
   "metadata": {},
   "outputs": [
    {
     "name": "stdout",
     "output_type": "stream",
     "text": [
      "Expression générée : ((exp(x) - (x * 2)) * ((4 + x) - (2 - x)))\n",
      "Expression sous forme SymPy : (-2*x + exp(x))*(2*x + 2)\n"
     ]
    }
   ],
   "source": [
    "# Exemple de génération\n",
    "expression = generate_expression(depth=3)\n",
    "print(\"Expression générée :\", expression)\n",
    "\n",
    "# Optionnel : convertir l'expression en une expression sympy\n",
    "sympy_expr = sp.sympify(expression)\n",
    "print(\"Expression sous forme SymPy :\", sympy_expr)"
   ]
  },
  {
   "cell_type": "code",
   "execution_count": 56,
   "metadata": {},
   "outputs": [],
   "source": [
    "def evaluate_expression(expr, num_points=10, x_range=(-10, 10)):\n",
    "    x = sp.symbols('x')\n",
    "    sympy_expr = sp.sympify(expr)\n",
    "    points = []\n",
    "    for _ in range(num_points):\n",
    "        x_val = random.uniform(*x_range)\n",
    "        try:\n",
    "            y_val = float(sympy_expr.subs(x, x_val))\n",
    "            points.append((x_val, y_val))\n",
    "        except (ZeroDivisionError, ValueError):\n",
    "            continue  # Ignorer les erreurs mathématiques\n",
    "    return points\n",
    "\n",
    "# Génération et stockage de plusieurs expressions avec leurs points d'échantillonnage\n",
    "def generate_dataset(num_expressions=100, depth=3, num_points=10, x_range=(-10, 10)):\n",
    "    dataset = []\n",
    "    for _ in range(num_expressions):\n",
    "        expr = generate_expression(depth)\n",
    "        points = evaluate_expression(expr, num_points, x_range)\n",
    "        dataset.append({\n",
    "            'expression': expr,\n",
    "            'points': points\n",
    "        })\n",
    "    return dataset\n",
    "\n",
    "# Sauvegarder le dataset dans un fichier JSON\n",
    "def save_dataset_to_json(dataset, filename=\"dataset.json\"):\n",
    "    with open(filename, 'w') as f:\n",
    "        json.dump(dataset, f, indent=4)\n",
    "\n"
   ]
  },
  {
   "cell_type": "code",
   "execution_count": 66,
   "metadata": {},
   "outputs": [
    {
     "name": "stdout",
     "output_type": "stream",
     "text": [
      "Dataset généré et sauvegardé dans dataset.json\n"
     ]
    }
   ],
   "source": [
    "# Exemple d'utilisation\n",
    "dataset = generate_dataset(num_expressions=10, depth=3, num_points=10, x_range=(-10, 10))\n",
    "save_dataset_to_json(dataset)\n",
    "print(\"Dataset généré et sauvegardé dans dataset.json\")"
   ]
  },
  {
   "cell_type": "code",
   "execution_count": 159,
   "metadata": {},
   "outputs": [],
   "source": [
    "def add_children(lis, place):\n",
    "    lis.insert(place+1, None)\n",
    "    lis.insert(place+2, None)\n",
    "\n",
    "#distribution as in article where n_max = D_max (10) + b_max (5)\n",
    "def distrib_binary_tree(n_max=15):\n",
    "    distrib = np.zeros((n_max+2,n_max+1))\n",
    "    distrib[0][1:] = 0\n",
    "    distrib[1:,0] = 1\n",
    "    for sum in range(2,n_max+2):\n",
    "        for j in range(1,sum):\n",
    "            i = sum - j\n",
    "            distrib[i][j] = distrib[i-1][j] + distrib[i+1][j-1]\n",
    "    return distrib\n",
    "    \n",
    "def generate_binary_tree(n,bin_list):\n",
    "    tree = [None]\n",
    "    e = 1\n",
    "    distrib = distrib_binary_tree(n)\n",
    "\n",
    "    while n>0 :\n",
    "        k = random.choices(range(e), weights=[distrib[e-i+1,n-1]/distrib[e,n] for i in range(e)])[0]\n",
    "        i = 0\n",
    "        count = k\n",
    "        while count >=0 :\n",
    "            if count==0 and tree[i] is None :\n",
    "                tree[i] = bin_list.pop(0)\n",
    "                add_children(tree, i)\n",
    "                count -= 1\n",
    "            elif tree[i] is None :\n",
    "                tree[i] = 'Leaf'\n",
    "                i += 1\n",
    "                count -= 1\n",
    "            else :\n",
    "                i += 1\n",
    "            \n",
    "        e = e - k + 1\n",
    "        n -= 1\n",
    "    \n",
    "    for i in range(len(tree)):\n",
    "        if tree[i] is None :\n",
    "            tree[i] = 'Leaf'\n",
    "    return tree   \n"
   ]
  },
  {
   "cell_type": "code",
   "execution_count": 109,
   "metadata": {},
   "outputs": [
    {
     "name": "stdout",
     "output_type": "stream",
     "text": [
      "['+', '-', 'Leaf', '*', '+', 'Leaf', 'Leaf', 'Leaf', '-', 'Leaf', 'Leaf']\n"
     ]
    }
   ],
   "source": [
    "tree = generate_binary_tree(5, ['+', '-', '*', '+', '-'])\n",
    "print(tree)"
   ]
  },
  {
   "cell_type": "code",
   "execution_count": 160,
   "metadata": {},
   "outputs": [],
   "source": [
    "D_MAX = 2\n",
    "u_max = 10\n",
    "N_MAX = 100\n",
    "BINARY = ['+', '-', '*']\n",
    "UNARY = ['inv','abs', 'sqr','sqrt','sin', 'cos', 'tan','arctan','log', 'exp']\n",
    "PRECISION = 2\n",
    "VARIABLES = [f'x{i}' for i in range(D_MAX)]\n",
    "SYMBOLS = list(sp.symbols(' '.join(VARIABLES)))\n",
    "\n",
    "def insert_multi(position, list1, list2):\n",
    "    return list1[:position] + list2 + list1[position:]\n",
    "\n",
    "def generate_integer(precision=2, max_exp=1):\n",
    "    sign = random.choice([-1,1])\n",
    "    mantissa = random.randint(1,10**precision)\n",
    "    min_power = -max_exp - (precision + 1) // 2\n",
    "    max_power = max_exp - (precision + 1) // 2\n",
    "    exponent = random.randint(min_power, max_power+1)\n",
    "    return round(sign * mantissa * 10**exponent, precision)\n",
    "\n",
    "#generation as in article\n",
    "def generate_expression_2() :\n",
    "    D = random.randint(1, D_MAX)\n",
    "    #D = 1\n",
    "    variables = VARIABLES[:D]\n",
    "    b_max = 5 + D\n",
    "    b = random.randint(D-1, D+b_max)\n",
    "    binary = random.choices(BINARY, weights=[1,1,1], k=b)\n",
    "\n",
    "    expr = generate_binary_tree(b,binary)\n",
    "    #print(expr)\n",
    "    i = 0\n",
    "    while i < len(expr) :\n",
    "        if expr[i] == 'Leaf' :\n",
    "            x = random.choice(variables)\n",
    "            m, p = generate_integer(PRECISION, max_exp=0), generate_integer(PRECISION,max_exp=0)\n",
    "            expr.pop(i)\n",
    "            expr = insert_multi(i, expr, ['+','*',m,x,p]) \n",
    "        i += 1\n",
    "\n",
    "    u = random.randint(0, u_max)\n",
    "    #print(u)\n",
    "    unary = random.choices(UNARY, weights=[5,1,3,3,1,1,0.2,0.2,0.2,1], k=u)\n",
    "    while len(unary) > 0 :\n",
    "        i = random.randint(0, len(expr)-1)\n",
    "        una = unary.pop(0)\n",
    "        m, p = generate_integer(PRECISION,max_exp=0), generate_integer(PRECISION,max_exp=0)\n",
    "        expr = insert_multi(i, expr, ['+',p,'*',m,una])\n",
    "\n",
    "    return expr,D"
   ]
  },
  {
   "cell_type": "code",
   "execution_count": 59,
   "metadata": {},
   "outputs": [
    {
     "name": "stdout",
     "output_type": "stream",
     "text": [
      "['+', '+', '+', '*', -32, 'x0', -0.57, '*', '+', '+', -64, '*', '+', 400, '*', -33, '+', 0.75, '*', 4.2, 'inv', 'inv', 60, 'sqrt', '*', '+', -0.5, '*', 0.38, '+', -660, '*', -7.7, 'inv', 'cos', 72, 'x0', -7.7, '+', '+', -2.5, '*', -8.5, 'sqrt', 30, '*', -2.8, 'abs', '+', '*', -0.17, 'x0', -410, '+', '+', '*', -29, 'x0', '+', -94, '*', 880, 'abs', '+', 83, '*', -11, 'inv', 280, '+', '*', -100, 'x0', -34]\n"
     ]
    }
   ],
   "source": [
    "expr,D = generate_expression_2()\n",
    "print(expr) "
   ]
  },
  {
   "cell_type": "code",
   "execution_count": 4,
   "metadata": {},
   "outputs": [],
   "source": [
    "def pref_to_inf(expr):\n",
    "    stack = []\n",
    "    for i in range(len(expr)-1,-1,-1):\n",
    "        e = expr[i]\n",
    "        if e in BINARY:\n",
    "            right = stack.pop()\n",
    "            left = stack.pop()\n",
    "            stack.append(f\"({left} {e} {right})\")\n",
    "        elif e in UNARY:\n",
    "            right = stack.pop()\n",
    "            stack.append(f\"{e}({right})\")\n",
    "        else :\n",
    "            stack.append(str(e))\n",
    "    return stack[0]"
   ]
  },
  {
   "cell_type": "code",
   "execution_count": 60,
   "metadata": {},
   "outputs": [
    {
     "data": {
      "text/plain": [
       "'(((-34 + (x0 * -100)) + (((abs(((inv(280) * -11) + 83)) * 880) + -94) + (x0 * -29))) + ((((abs((-410 + (x0 * -0.17))) * -2.8) + ((sqrt(30) * -8.5) + -2.5)) * (-7.7 + ((sqrt((x0 * ((((inv(cos(72)) * -7.7) + -660) * 0.38) + -0.5))) * ((((inv(inv(60)) * 4.2) + 0.75) * -33) + 400)) + -64))) + (-0.57 + (x0 * -32))))'"
      ]
     },
     "execution_count": 60,
     "metadata": {},
     "output_type": "execute_result"
    }
   ],
   "source": [
    "pref_to_inf(expr)"
   ]
  },
  {
   "cell_type": "code",
   "execution_count": 5,
   "metadata": {},
   "outputs": [],
   "source": [
    "class Sqr(sp.Function):\n",
    "    @classmethod\n",
    "    def eval(cls, x):\n",
    "        return x ** 2\n",
    "    \n",
    "class Inv(sp.Function):\n",
    "    @classmethod\n",
    "    def eval(cls, x):\n",
    "        return 1 / x\n",
    "    \n",
    "class Abs(sp.Function):\n",
    "    @classmethod\n",
    "    def eval(cls, x):\n",
    "        return sp.Abs(x)\n",
    "\n",
    "def simplify(expr, variables):\n",
    "    infixed_expr = pref_to_inf(expr)\n",
    "    symbol_dict = {str(var): var for var in variables}\n",
    "    symbol_dict['inv'] = Inv\n",
    "    symbol_dict['sqr'] = Sqr\n",
    "    symbol_dict['abs'] = Abs\n",
    "    sympy_expr = sp.sympify(infixed_expr, locals=symbol_dict)\n",
    "    return sp.simplify(sympy_expr)"
   ]
  },
  {
   "cell_type": "code",
   "execution_count": 149,
   "metadata": {},
   "outputs": [
    {
     "data": {
      "text/latex": [
       "$\\displaystyle \\frac{\\sqrt{- \\cos{\\left(72 \\right)}} \\left(72876.8585714286 - 161 x_{0}\\right) + \\left(7940.75 \\sqrt{- x_{0}} \\sqrt{-2.926 - 251.3 \\cos{\\left(72 \\right)}} + 71.7 \\sqrt{- \\cos{\\left(72 \\right)}}\\right) \\left(2.8 \\left|{0.17 x_{0} + 410}\\right| + 2.5 + 8.5 \\sqrt{30}\\right)}{\\sqrt{- \\cos{\\left(72 \\right)}}}$"
      ],
      "text/plain": [
       "(sqrt(-cos(72))*(72876.8585714286 - 161*x0) + (7940.75*sqrt(-x0)*sqrt(-2.926 - 251.3*cos(72)) + 71.7*sqrt(-cos(72)))*(2.8*Abs(0.17*x0 + 410) + 2.5 + 8.5*sqrt(30)))/sqrt(-cos(72))"
      ]
     },
     "execution_count": 149,
     "metadata": {},
     "output_type": "execute_result"
    }
   ],
   "source": [
    "simplify(expr, SYMBOLS)"
   ]
  },
  {
   "cell_type": "code",
   "execution_count": 150,
   "metadata": {},
   "outputs": [
    {
     "data": {
      "text/latex": [
       "$\\displaystyle \\frac{- 5312.64 x_{0} + \\left(6.2 x_{0} - 6.3\\right) \\left(65 x_{0} + 8.9\\right) \\left(84.5 x_{0} + 9.5 e^{x_{0}} - 86.3\\right) - 747.44}{\\left(6.2 x_{0} - 6.3\\right) \\left(65 x_{0} + 8.9\\right)}$"
      ],
      "text/plain": [
       "(-5312.64*x0 + (6.2*x0 - 6.3)*(65*x0 + 8.9)*(84.5*x0 + 9.5*exp(x0) - 86.3) - 747.44)/((6.2*x0 - 6.3)*(65*x0 + 8.9))"
      ]
     },
     "execution_count": 150,
     "metadata": {},
     "output_type": "execute_result"
    }
   ],
   "source": [
    "simplify(generate_expression_2()[0], SYMBOLS)"
   ]
  },
  {
   "cell_type": "code",
   "execution_count": 18,
   "metadata": {},
   "outputs": [],
   "source": [
    "K_MAX = 10\n",
    "\n",
    "def haar_random_matrix(n):\n",
    "    Z = np.random.randn(n, n)\n",
    "    Q, R = np.linalg.qr(Z)\n",
    "    if np.linalg.det(Q) < 0:\n",
    "        Q[:, 0] = -Q[:, 0]\n",
    "    return Q\n",
    "     \n",
    "\n",
    "def generate_input_point(D):\n",
    "    N = random.randint(10*D, N_MAX)\n",
    "    k = random.randint(1, K_MAX)\n",
    "    w = np.random.uniform(0, 1, k)\n",
    "    w = w / np.sum(w)\n",
    "    x = np.zeros((0,D)) \n",
    "    print(N,k)\n",
    "    for i in range(k):\n",
    "        mu = np.random.uniform(0, 1, D)\n",
    "        sigma = np.random.uniform(0, 1, D)\n",
    "        distrib = np.random.choice(['normal', 'uniform'])\n",
    "        if distrib == 'normal':\n",
    "            number_points = int(np.floor(N * w[i]))\n",
    "            haar_rotation = haar_random_matrix(number_points)\n",
    "            sampled_points = np.random.normal(mu, sigma, (number_points,D))\n",
    "            new_points = np.matmul(haar_rotation, sampled_points)\n",
    "            x = np.vstack((x, new_points))\n",
    "        else:\n",
    "            lower_bound = mu - np.sqrt(3) * sigma\n",
    "            upper_bound = mu + np.sqrt(3) * sigma\n",
    "            number_points = int(np.floor(N * w[i]))\n",
    "            haar_rotation = haar_random_matrix(number_points)\n",
    "            sampled_points = np.random.uniform(lower_bound, upper_bound, (number_points,D))\n",
    "            new_points = np.matmul(haar_rotation, sampled_points)\n",
    "            x = np.vstack((x, new_points))\n",
    "    normalized_x = (x - np.mean(x, axis=0)) / np.std(x, axis=0)\n",
    "    return normalized_x"
   ]
  },
  {
   "cell_type": "code",
   "execution_count": 155,
   "metadata": {},
   "outputs": [
    {
     "name": "stdout",
     "output_type": "stream",
     "text": [
      "34 10\n"
     ]
    },
    {
     "data": {
      "image/png": "[encoded data removed]",
      "text/plain": [
       "<Figure size 432x288 with 1 Axes>"
      ]
     },
     "metadata": {
      "needs_background": "light"
     },
     "output_type": "display_data"
    }
   ],
   "source": [
    "x = generate_input_point(2)\n",
    "plt.figure()\n",
    "\n",
    "plt.scatter(x[:,0], x[:,1])\n",
    "plt.show()"
   ]
  },
  {
   "cell_type": "code",
   "execution_count": 158,
   "metadata": {},
   "outputs": [
    {
     "name": "stdout",
     "output_type": "stream",
     "text": [
      "79 4\n",
      "(93*x0 + (x0*(1.0*x0 + 3.9)*(19*x0 + 7.52459016393443) + (31*x0 + 97)*(x0*(341.9*x0 + 84.7) + 0.0114285714285714))*(-(55*x0 + 9.3)*(100.0*x0**2 - 37.7)*(7.8*sqrt(368*x0**2 + 1127) - 17.4) - 3.4))/(x0*(1.0*x0 + 3.9)*(19*x0 + 7.52459016393443) + (31*x0 + 97)*(x0*(341.9*x0 + 84.7) + 0.0114285714285714))\n"
     ]
    },
    {
     "data": {
      "image/png": "[encoded data removed]",
      "text/plain": [
       "<Figure size 432x288 with 1 Axes>"
      ]
     },
     "metadata": {
      "needs_background": "light"
     },
     "output_type": "display_data"
    },
    {
     "data": {
      "image/png": "[encoded data removed]",
      "text/plain": [
       "<Figure size 432x288 with 1 Axes>"
      ]
     },
     "metadata": {
      "needs_background": "light"
     },
     "output_type": "display_data"
    }
   ],
   "source": [
    "func = simplify(generate_expression_2()[0], SYMBOLS)\n",
    "x = generate_input_point(1)\n",
    "y = []\n",
    "for point in x[:,0]:\n",
    "    try :\n",
    "        y.append(func.subs(SYMBOLS[0], point))\n",
    "    except (ZeroDivisionError, ValueError):\n",
    "        print('error')\n",
    "print(func)\n",
    "plt.figure()\n",
    "plt.hist(x[:,0], bins=10)\n",
    "\n",
    "plt.figure()\n",
    "plt.scatter(x[:,0], y)\n",
    "plt.show()"
   ]
  },
  {
   "cell_type": "code",
   "execution_count": null,
   "metadata": {},
   "outputs": [],
   "source": []
  }
 ],
 "metadata": {
  "kernelspec": {
   "display_name": "Python 3",
   "language": "python",
   "name": "python3"
  },
  "language_info": {
   "codemirror_mode": {
    "name": "ipython",
    "version": 3
   },
   "file_extension": ".py",
   "mimetype": "text/x-python",
   "name": "python",
   "nbconvert_exporter": "python",
   "pygments_lexer": "ipython3",
   "version": "3.8.3"
  }
 },
 "nbformat": 4,
 "nbformat_minor": 2
}
